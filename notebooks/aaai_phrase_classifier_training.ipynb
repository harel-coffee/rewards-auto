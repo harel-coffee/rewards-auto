{
 "cells": [
  {
   "cell_type": "markdown",
   "metadata": {},
   "source": [
    "# Phrase Classification\n",
    "\n",
    "This notebook contains code used to train and evaluate the classifier used as a $\\textit{grounding function}$ for the two hand-coded teaching models.\n",
    "\n",
    "It trains a simple logistic regression based on a TF-IDF of the tokens. Data comes from a pilot collection run with similar experiment structure. See Appendix $\\textbf{Training a Phrase Classifier}$ for more details."
   ]
  },
  {
   "cell_type": "code",
   "execution_count": 1,
   "metadata": {},
   "outputs": [],
   "source": [
    "import pandas as pd\n",
    "import numpy as np\n",
    "\n",
    "import matplotlib.pylab as plt\n",
    "import seaborn as sns\n",
    "\n",
    "import nltk\n",
    "from nltk.corpus import stopwords\n",
    "import string\n",
    "\n",
    "from sklearn.feature_extraction.text import TfidfVectorizer\n",
    "from sklearn.feature_selection import chi2\n",
    "from sklearn.model_selection import train_test_split\n",
    "from sklearn.feature_extraction.text import TfidfTransformer\n",
    "from sklearn.linear_model import LogisticRegression\n",
    "from sklearn.model_selection import cross_val_score\n",
    "from sklearn.metrics import confusion_matrix\n",
    "from sklearn import metrics"
   ]
  },
  {
   "cell_type": "markdown",
   "metadata": {},
   "source": [
    "## Load hand-labeled chats"
   ]
  },
  {
   "cell_type": "code",
   "execution_count": 17,
   "metadata": {},
   "outputs": [
    {
     "data": {
      "text/html": [
       "<div>\n",
       "<style scoped>\n",
       "    .dataframe tbody tr th:only-of-type {\n",
       "        vertical-align: middle;\n",
       "    }\n",
       "\n",
       "    .dataframe tbody tr th {\n",
       "        vertical-align: top;\n",
       "    }\n",
       "\n",
       "    .dataframe thead th {\n",
       "        text-align: right;\n",
       "    }\n",
       "</style>\n",
       "<table border=\"1\" class=\"dataframe\">\n",
       "  <thead>\n",
       "    <tr style=\"text-align: right;\">\n",
       "      <th></th>\n",
       "      <th>task_uuid</th>\n",
       "      <th>level_number</th>\n",
       "      <th>phrase</th>\n",
       "      <th>reference_type</th>\n",
       "      <th>valence</th>\n",
       "    </tr>\n",
       "  </thead>\n",
       "  <tbody>\n",
       "    <tr>\n",
       "      <th>0</th>\n",
       "      <td>A3GIIL73GE2CBQ:3M0NZ3JDP3M4K1RM3VSSEUX29KUZ5O</td>\n",
       "      <td>6.0</td>\n",
       "      <td>:(</td>\n",
       "      <td>trajectory</td>\n",
       "      <td>negative</td>\n",
       "    </tr>\n",
       "    <tr>\n",
       "      <th>1</th>\n",
       "      <td>A3GIIL73GE2CBQ:3M0NZ3JDP3M4K1RM3VSSEUX29KUZ5O</td>\n",
       "      <td>9.0</td>\n",
       "      <td>:)</td>\n",
       "      <td>trajectory</td>\n",
       "      <td>positive</td>\n",
       "    </tr>\n",
       "    <tr>\n",
       "      <th>2</th>\n",
       "      <td>A2MWAXV1YRK5GH:3AWETUDC94GGWPM1AFBM3317E60ZIY</td>\n",
       "      <td>10.0</td>\n",
       "      <td>4 white circles on the right would've given 20pts</td>\n",
       "      <td>features</td>\n",
       "      <td>positive</td>\n",
       "    </tr>\n",
       "    <tr>\n",
       "      <th>3</th>\n",
       "      <td>A31XNLA9REVGXL:33LKR6A5KG89A7H4WG1YPGJ4C841TT</td>\n",
       "      <td>6.0</td>\n",
       "      <td>5 in the middle of the three.</td>\n",
       "      <td>object_spatial</td>\n",
       "      <td>positive</td>\n",
       "    </tr>\n",
       "    <tr>\n",
       "      <th>4</th>\n",
       "      <td>A31XNLA9REVGXL:33LKR6A5KG89A7H4WG1YPGJ4C841TT</td>\n",
       "      <td>6.0</td>\n",
       "      <td>10 right below where you finished</td>\n",
       "      <td>object_behavior</td>\n",
       "      <td>positive</td>\n",
       "    </tr>\n",
       "  </tbody>\n",
       "</table>\n",
       "</div>"
      ],
      "text/plain": [
       "                                       task_uuid  level_number  \\\n",
       "0  A3GIIL73GE2CBQ:3M0NZ3JDP3M4K1RM3VSSEUX29KUZ5O           6.0   \n",
       "1  A3GIIL73GE2CBQ:3M0NZ3JDP3M4K1RM3VSSEUX29KUZ5O           9.0   \n",
       "2  A2MWAXV1YRK5GH:3AWETUDC94GGWPM1AFBM3317E60ZIY          10.0   \n",
       "3  A31XNLA9REVGXL:33LKR6A5KG89A7H4WG1YPGJ4C841TT           6.0   \n",
       "4  A31XNLA9REVGXL:33LKR6A5KG89A7H4WG1YPGJ4C841TT           6.0   \n",
       "\n",
       "                                              phrase   reference_type  \\\n",
       "0                                                 :(       trajectory   \n",
       "1                                                 :)       trajectory   \n",
       "2  4 white circles on the right would've given 20pts         features   \n",
       "3                     5 in the middle of the three.    object_spatial   \n",
       "4                  10 right below where you finished  object_behavior   \n",
       "\n",
       "    valence  \n",
       "0  negative  \n",
       "1  positive  \n",
       "2  positive  \n",
       "3  positive  \n",
       "4  positive  "
      ]
     },
     "execution_count": 17,
     "metadata": {},
     "output_type": "execute_result"
    }
   ],
   "source": [
    "label_df = pd.read_csv(\"data/pilot_chat_messages_labels.csv\")\n",
    "label_df[\"phrase\"] = label_df.apply(lambda x: x[\"chat\"] if pd.isnull(x[\"phrase\"]) else x[\"phrase\"], axis=1)\n",
    "label_df.drop(\"Unnamed: 0\", inplace=True, axis=1)\n",
    "\n",
    "label_df[\"feature_list\"] = label_df[\"features\"].str.split(\", \")\n",
    "label_df[\"feature_list\"] = label_df[\"feature_list\"].apply(lambda d: d if isinstance(d, list) else [])\n",
    "\n",
    "label_df = label_df[[\"task_uuid\", \"level_number\", \"phrase\", \"reference_type\", \"valence\"]]\n",
    "\n",
    "label_df.head()"
   ]
  },
  {
   "cell_type": "code",
   "execution_count": 18,
   "metadata": {},
   "outputs": [
    {
     "data": {
      "text/plain": [
       "81"
      ]
     },
     "execution_count": 18,
     "metadata": {},
     "output_type": "execute_result"
    }
   ],
   "source": [
    "label_df.task_uuid.nunique()"
   ]
  },
  {
   "cell_type": "code",
   "execution_count": 3,
   "metadata": {},
   "outputs": [
    {
     "data": {
      "image/png": "[encoded data removed]",
      "text/plain": [
       "<Figure size 432x288 with 1 Axes>"
      ]
     },
     "metadata": {
      "needs_background": "light"
     },
     "output_type": "display_data"
    }
   ],
   "source": [
    "ax = label_df.reference_type.value_counts().plot(kind=\"bar\", title=\"Reference Type Counts (all conditions)\")\n",
    "plt.setp(ax.get_xticklabels(), rotation=45);"
   ]
  },
  {
   "cell_type": "code",
   "execution_count": 4,
   "metadata": {},
   "outputs": [
    {
     "name": "stdout",
     "output_type": "stream",
     "text": [
      "\n",
      "Phrase Type: trajectory\n",
      "\tBravo!\n",
      "\tThe highest scores were in the area you chose. \n",
      "\tGood job\n",
      "\tbut still good job\n",
      "\tThat was the most valuable point on the board.\n",
      "\n",
      "Phrase Type: features\n",
      "\tyes circles are good\n",
      "\tpurple circles seem to be worth the most so far\n",
      "\ttriangles 0\n",
      "\tblue in the lower left is positve\n",
      "\tsqures negative\n",
      "\n",
      "Phrase Type: object_spatial\n",
      "\tGet all the blocks in the left hand lower corner\n",
      "\tthere are lots of negative ones in each corner. hard to tell which ones they are\n",
      "\tIn the bottom left there are three 8s and two 0s.\n",
      "\tbottom right would have been a little better because there were 3 vs 2\n",
      "\tlower left was a little better.\n",
      "\n",
      "Phrase Type: object_behavior\n",
      "\tYou got the highest point valued shape! \n",
      "\tThere was a mix of high value and - there, but it worked.\n",
      "\tLast one was -8. \n",
      "\tFirst collected: 0 \n",
      "\tthat was the best corner\n",
      "\n",
      "Phrase Type: other\n",
      "\tBut just keep going, half way there.\n",
      "\tKeep at it.\n",
      "\tonce again! \n",
      "\tThey changed the colors?\n",
      "\tWell I was wrong\n"
     ]
    }
   ],
   "source": [
    "for phrase_type in label_df.reference_type.unique():\n",
    "    \n",
    "    random_phrases = label_df[label_df.reference_type == phrase_type].phrase.sample(5)\n",
    "    print(\"\\nPhrase Type: {}\".format(phrase_type))\n",
    "    for p in random_phrases:\n",
    "        print(\"\\t{}\".format(p))\n"
   ]
  },
  {
   "cell_type": "markdown",
   "metadata": {},
   "source": [
    "# Utterance Classification\n",
    "\n",
    "Use a TF-IDF on the vocab, then train a basic logistic regression on the classes."
   ]
  },
  {
   "cell_type": "code",
   "execution_count": 5,
   "metadata": {},
   "outputs": [
    {
     "data": {
      "text/plain": [
       "trajectory         442\n",
       "features           277\n",
       "object_spatial     132\n",
       "object_behavior     93\n",
       "other               38\n",
       "Name: reference_type, dtype: int64"
      ]
     },
     "execution_count": 5,
     "metadata": {},
     "output_type": "execute_result"
    }
   ],
   "source": [
    "label_df.reference_type.value_counts()"
   ]
  },
  {
   "cell_type": "code",
   "execution_count": 6,
   "metadata": {},
   "outputs": [],
   "source": [
    "def preprocess_chat_phrase(chat_phrase):\n",
    "    \n",
    "    # Remove punctuation\n",
    "    chat_phrase = chat_phrase.translate(str.maketrans('', '', string.punctuation))\n",
    "    chat_tokens = nltk.word_tokenize(chat_phrase)\n",
    "\n",
    "    # Lemmaize and filter the words \n",
    "    chat_tokens = [nltk.stem.WordNetLemmatizer().lemmatize(word) for word in chat_tokens]\n",
    "    chat_tokens = [t for t in chat_tokens if t not in stopwords.words(\"english\")]\n",
    "    \n",
    "    # Convert single-digit numerals to words, i.e. \"0\" --> \"zero\"\n",
    "    number_map = {\"0\":\"zero\",\"1\":\"one\",\"2\":\"two\",\"3\":\"three\", \n",
    "                  \"4\": \"four\",\"5\":\"five\", \"6\": \"six\", \"7\":\"seven\", \n",
    "                  \"8\":\"eight\", \"9\":\"nine\"}\n",
    "\n",
    "    chat_tokens = [number_map.get(t, t) for t in chat_tokens]\n",
    "    \n",
    "    return \" \".join(chat_tokens)"
   ]
  },
  {
   "cell_type": "code",
   "execution_count": 7,
   "metadata": {},
   "outputs": [],
   "source": [
    "classifier_df = label_df.copy()\n",
    "\n",
    "classifier_df['reference_id'] = classifier_df['reference_type'].factorize()[0]\n",
    "\n",
    "category_to_id = dict(classifier_df[['reference_type', 'reference_id']].drop_duplicates().values)\n",
    "id_to_category = dict(classifier_df[['reference_id', 'reference_type']].drop_duplicates().values)\n",
    "\n",
    "classifier_df[\"preprocessed_phrase\"] = classifier_df.apply(lambda x: preprocess_chat_phrase(x[\"phrase\"]), axis=1)"
   ]
  },
  {
   "cell_type": "code",
   "execution_count": 8,
   "metadata": {},
   "outputs": [],
   "source": [
    "tfidf = TfidfVectorizer(sublinear_tf=True, min_df=5,\n",
    "                        ngram_range=(1, 2), \n",
    "                        stop_words='english')\n",
    "\n",
    "features = tfidf.fit_transform(classifier_df.preprocessed_phrase).toarray()\n",
    "labels = classifier_df.reference_id"
   ]
  },
  {
   "cell_type": "code",
   "execution_count": 9,
   "metadata": {},
   "outputs": [
    {
     "name": "stdout",
     "output_type": "stream",
     "text": [
      "\n",
      "==> features:\n",
      "  * Most Correlated Unigrams are: pink, yellow, circle\n",
      "  * Most Correlated Bigrams are: circle worth, white circle, yellow circle\n",
      "\n",
      "==> object_behavior:\n",
      "  * Most Correlated Unigrams are: second, zero, collected\n",
      "  * Most Correlated Bigrams are: best corner, symbol collected, second collected\n",
      "\n",
      "==> object_spatial:\n",
      "  * Most Correlated Unigrams are: upper, left, right\n",
      "  * Most Correlated Bigrams are: upper right, right corner, lower right\n",
      "\n",
      "==> other:\n",
      "  * Most Correlated Unigrams are: got, color, round\n",
      "  * Most Correlated Bigrams are: great job, good job, corner wa\n",
      "\n",
      "==> trajectory:\n",
      "  * Most Correlated Unigrams are: good, great, job\n",
      "  * Most Correlated Bigrams are: yellow circle, great job, good job\n"
     ]
    }
   ],
   "source": [
    "N = 3\n",
    "for reference_type, reference_id in sorted(category_to_id.items()):\n",
    "  features_chi2 = chi2(features, labels == reference_id)\n",
    "  indices = np.argsort(features_chi2[0])\n",
    "  feature_names = np.array(tfidf.get_feature_names())[indices]\n",
    "  unigrams = [v for v in feature_names if len(v.split(' ')) == 1]\n",
    "  bigrams = [v for v in feature_names if len(v.split(' ')) == 2]\n",
    "  print(\"\\n==> %s:\" %(reference_type))\n",
    "  print(\"  * Most Correlated Unigrams are: %s\" %(', '.join(unigrams[-N:])))\n",
    "  print(\"  * Most Correlated Bigrams are: %s\" %(', '.join(bigrams[-N:])))"
   ]
  },
  {
   "cell_type": "code",
   "execution_count": 10,
   "metadata": {},
   "outputs": [],
   "source": [
    "X = classifier_df.preprocessed_phrase\n",
    "y = classifier_df.reference_id\n",
    "\n",
    "X_train, X_test, y_train, y_test = train_test_split(X, y, test_size=0.25, random_state = 42)"
   ]
  },
  {
   "cell_type": "code",
   "execution_count": 11,
   "metadata": {},
   "outputs": [
    {
     "data": {
      "text/plain": [
       "trajectory         442\n",
       "features           277\n",
       "object_spatial     132\n",
       "object_behavior     93\n",
       "other               38\n",
       "Name: reference_type, dtype: int64"
      ]
     },
     "execution_count": 11,
     "metadata": {},
     "output_type": "execute_result"
    }
   ],
   "source": [
    "classifier_df.reference_type.value_counts()"
   ]
  },
  {
   "cell_type": "code",
   "execution_count": 12,
   "metadata": {},
   "outputs": [
    {
     "data": {
      "text/plain": [
       "0    381\n",
       "1    228\n",
       "2    114\n",
       "3     79\n",
       "4     32\n",
       "Name: reference_id, dtype: int64"
      ]
     },
     "execution_count": 12,
     "metadata": {},
     "output_type": "execute_result"
    }
   ],
   "source": [
    "X_train, X_test, y_train, y_test, indices_train, indices_test = train_test_split(X, \n",
    "                                                               y, \n",
    "                                                               classifier_df.index, test_size=0.15, \n",
    "                                                               random_state=1)\n",
    "\n",
    "fitted_vectorizer = tfidf.fit(X_train)\n",
    "train_vectors = fitted_vectorizer.transform(X_train)\n",
    "\n",
    "final_model = LogisticRegression()\n",
    "final_model.fit(train_vectors, y_train)\n",
    "\n",
    "y_train.value_counts()"
   ]
  },
  {
   "cell_type": "code",
   "execution_count": 13,
   "metadata": {},
   "outputs": [],
   "source": [
    "test_vectors = fitted_vectorizer.transform(X_test)\n",
    "y_pred = final_model.predict(test_vectors)"
   ]
  },
  {
   "cell_type": "code",
   "execution_count": 20,
   "metadata": {},
   "outputs": [
    {
     "name": "stdout",
     "output_type": "stream",
     "text": [
      "\t\t\t\tCLASSIFICATIION METRICS\n",
      "\n",
      "                 precision    recall  f1-score   support\n",
      "\n",
      "     trajectory       0.84      0.95      0.89        61\n",
      "       features       0.96      0.96      0.96        49\n",
      " object_spatial       0.82      0.78      0.80        18\n",
      "object_behavior       0.80      0.57      0.67        14\n",
      "          other       0.67      0.33      0.44         6\n",
      "\n",
      "       accuracy                           0.87       148\n",
      "      macro avg       0.82      0.72      0.75       148\n",
      "   weighted avg       0.87      0.87      0.86       148\n",
      "\n"
     ]
    }
   ],
   "source": [
    "print('\\t\\t\\t\\tCLASSIFICATIION METRICS\\n')\n",
    "print(metrics.classification_report(y_test, y_pred, \n",
    "                                    target_names= classifier_df['reference_type'].unique()))"
   ]
  },
  {
   "cell_type": "code",
   "execution_count": 22,
   "metadata": {},
   "outputs": [
    {
     "data": {
      "text/plain": [
       "'                 precision    recall  f1-score   support\\n\\n     trajectory       0.84      0.95      0.89        61\\n       features       0.96      0.96      0.96        49\\n object_spatial       0.82      0.78      0.80        18\\nobject_behavior       0.80      0.57      0.67        14\\n          other       0.67      0.33      0.44         6\\n\\n       accuracy                           0.87       148\\n      macro avg       0.82      0.72      0.75       148\\n   weighted avg       0.87      0.87      0.86       148\\n'"
      ]
     },
     "execution_count": 22,
     "metadata": {},
     "output_type": "execute_result"
    }
   ],
   "source": [
    "final_metrics = metrics.classification_report(y_test, y_pred, \n",
    "                                    target_names= classifier_df['reference_type'].unique())\n",
    "\n",
    "final_metrics"
   ]
  },
  {
   "cell_type": "code",
   "execution_count": 15,
   "metadata": {},
   "outputs": [
    {
     "data": {
      "image/png": "[encoded data removed]",
      "text/plain": [
       "<Figure size 576x576 with 2 Axes>"
      ]
     },
     "metadata": {
      "needs_background": "light"
     },
     "output_type": "display_data"
    }
   ],
   "source": [
    "conf_mat = confusion_matrix(y_test, y_pred)\n",
    "fig, ax = plt.subplots(figsize=(8,8))\n",
    "sns.heatmap(conf_mat, annot=True, cmap=\"Blues\", fmt='d',\n",
    "            xticklabels=classifier_df.reference_type.unique(), \n",
    "            yticklabels=classifier_df.reference_type.unique())\n",
    "plt.ylabel('Actual')\n",
    "plt.xlabel('Predicted')\n",
    "plt.title(\"Logistic Regression Confusion Matrix\", size=14);"
   ]
  },
  {
   "cell_type": "code",
   "execution_count": null,
   "metadata": {},
   "outputs": [],
   "source": []
  }
 ],
 "metadata": {
  "kernelspec": {
   "display_name": "Python 3",
   "language": "python",
   "name": "python3"
  },
  "language_info": {
   "codemirror_mode": {
    "name": "ipython",
    "version": 3
   },
   "file_extension": ".py",
   "mimetype": "text/x-python",
   "name": "python",
   "nbconvert_exporter": "python",
   "pygments_lexer": "ipython3",
   "version": "3.7.6"
  }
 },
 "nbformat": 4,
 "nbformat_minor": 4
}
