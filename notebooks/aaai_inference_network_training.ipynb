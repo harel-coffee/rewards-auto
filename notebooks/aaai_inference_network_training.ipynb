{
 "cells": [
  {
   "cell_type": "markdown",
   "metadata": {},
   "source": [
    "# Inference Network Training"
   ]
  },
  {
   "cell_type": "code",
   "execution_count": 12,
   "metadata": {},
   "outputs": [
    {
     "name": "stdout",
     "output_type": "stream",
     "text": [
      "The autoreload extension is already loaded. To reload it, use:\n",
      "  %reload_ext autoreload\n"
     ]
    }
   ],
   "source": [
    "# Set notebook up to load files from Science repo\n",
    "import os\n",
    "import sys\n",
    "module_path = os.path.abspath(os.path.join('..'))\n",
    "if module_path not in sys.path:\n",
    "    sys.path.append(module_path)\n",
    "    \n",
    "# Ensure that we re-load changes automagically\n",
    "%load_ext autoreload\n",
    "%autoreload 2"
   ]
  },
  {
   "cell_type": "code",
   "execution_count": 13,
   "metadata": {},
   "outputs": [],
   "source": [
    "import torch\n",
    "import torch.nn as nn\n",
    "import torch.nn.functional as F\n",
    "import torch.optim as optim"
   ]
  },
  {
   "cell_type": "code",
   "execution_count": 14,
   "metadata": {},
   "outputs": [],
   "source": [
    "import itertools\n",
    "import json\n",
    "import pickle\n",
    "import numpy as np\n",
    "import pandas as pd\n",
    "from matplotlib.pylab import plt\n",
    "import seaborn as sns\n",
    "\n",
    "# Set random seeds\n",
    "import random\n",
    "RANDOM_SEED = 42\n",
    "random.seed(RANDOM_SEED);\n",
    "np.random.seed(RANDOM_SEED);\n",
    "torch.manual_seed(RANDOM_SEED);\n",
    "\n",
    "OVERWRITE_OLD_TRAINING_DATA = False"
   ]
  },
  {
   "cell_type": "markdown",
   "metadata": {},
   "source": [
    "### Import and Pre-Process Language"
   ]
  },
  {
   "cell_type": "code",
   "execution_count": 15,
   "metadata": {},
   "outputs": [],
   "source": [
    "from science.observations.text_analysis import nn_preprocess_chat_phrase\n",
    "from science.analysis.model_benchmarking import human_human_experiment_dataframe\n",
    "\n",
    "df = human_human_experiment_dataframe()\n",
    "df[\"tokens\"] = df.chat_text.apply(lambda x: nn_preprocess_chat_phrase(x))"
   ]
  },
  {
   "cell_type": "markdown",
   "metadata": {},
   "source": [
    "## Helper Functions\n",
    "\n",
    "#### Set up Target Vector\n",
    "Take a reward configuration string and transform it into the appropriate target vector for training."
   ]
  },
  {
   "cell_type": "code",
   "execution_count": 16,
   "metadata": {},
   "outputs": [
    {
     "name": "stdout",
     "output_type": "stream",
     "text": [
      "Original reward vector:\n",
      "[ 0.    0.    0.    0.2   0.55  0.9  -0.2  -0.55 -0.9 ]\n",
      "Switching blue to negative:\n",
      "[-0.2  -0.55 -0.9   0.2   0.55  0.9   0.    0.    0.  ]\n",
      "Switching triangles to be low-magnitude:\n",
      "[-0.9  -0.55 -0.2   0.9   0.55  0.2   0.    0.    0.  ]\n"
     ]
    }
   ],
   "source": [
    "from science.utils import FEATURE_ABBREVIATION_DICT, FEATURES, CONJUNCTIONS\n",
    "\n",
    "def reward_vector_from_config(value_mask_config):\n",
    "    \n",
    "    sign_config = value_mask_config[\"color_config\"]\n",
    "    magnitude_config = value_mask_config[\"shape_config\"]\n",
    "    \n",
    "    reward_dict = {}\n",
    "    signs = [-1, 0, 1]\n",
    "    magnitudes = [2, 5.5, 9]\n",
    "    \n",
    "    for s, f1 in zip(signs, sign_config.split(\"_\")):\n",
    "        for m, f2 in zip(magnitudes, magnitude_config.split(\"_\")):\n",
    "            feature_name = \"{}|{}\".format(FEATURE_ABBREVIATION_DICT[f1], FEATURE_ABBREVIATION_DICT[f2])\n",
    "            reward_dict[feature_name] = s * m / 10\n",
    "    \n",
    "    # Build a series with feature names as index\n",
    "    reward_series = pd.Series(reward_dict)\n",
    "    \n",
    "    # Use that to sort (to get consistent order), then return just the values\n",
    "    return reward_series.sort_index().values\n",
    "\n",
    "print(\"Original reward vector:\")\n",
    "print(reward_vector_from_config({\"shape_config\": \"o_s_^\", \"color_config\": \"y_c_m\"}))\n",
    "print(\"Switching blue to negative:\")\n",
    "print(reward_vector_from_config({\"shape_config\": \"o_s_^\", \"color_config\": \"c_y_m\"}))\n",
    "print(\"Switching triangles to be low-magnitude:\")\n",
    "print(reward_vector_from_config({\"shape_config\": \"^_s_o\", \"color_config\": \"c_y_m\"}))"
   ]
  },
  {
   "cell_type": "markdown",
   "metadata": {},
   "source": [
    "#### Build Vocab-Embedding Dictionary"
   ]
  },
  {
   "cell_type": "code",
   "execution_count": 17,
   "metadata": {},
   "outputs": [],
   "source": [
    "from science.utils import FEATURE_SYNONYM_DICT\n",
    "\n",
    "def get_token_counts(tokens_series):\n",
    "    \n",
    "    return pd.Series(list(itertools.chain.from_iterable(tokens_series))).value_counts()\n",
    "\n",
    "def build_vocab(tokens_series, min_number_appearances):\n",
    "    \n",
    "    token_counts = get_token_counts(tokens_series)\n",
    "    \n",
    "    tokens = list(token_counts[token_counts >= min_number_appearances].index)\n",
    "    tokens.extend(list(itertools.chain.from_iterable(FEATURE_SYNONYM_DICT.values())))\n",
    "    tokens.append(\"UNK\")\n",
    "    \n",
    "    return list(set(tokens))"
   ]
  },
  {
   "cell_type": "markdown",
   "metadata": {},
   "source": [
    "## Games / Configurations to Use"
   ]
  },
  {
   "cell_type": "markdown",
   "metadata": {},
   "source": [
    "### Select (or load) games to train on"
   ]
  },
  {
   "cell_type": "code",
   "execution_count": 18,
   "metadata": {},
   "outputs": [],
   "source": [
    "# Select all negative games; downsample positives to get equivalent number. \n",
    "negative_games = df[df.pct_max_score < 0]\n",
    "positive_games = df[df.pct_max_score > 0].sample(len(negative_games), replace=False, random_state=RANDOM_SEED)\n",
    "zero_games = df[df.pct_max_score == 0]\n",
    "\n",
    "full_training_data = pd.concat([negative_games, zero_games, positive_games])\n",
    "\n",
    "# Make sure we actually got some teacher feedback\n",
    "full_training_data = full_training_data[full_training_data.tokens.apply(lambda x: len(x) > 0)]\n",
    "\n",
    "if OVERWRITE_OLD_TRAINING_DATA:\n",
    "    games_to_use = full_training_data\n",
    "    json.dump(list(games_to_use.index.values), open(\"data/model_training_10fold/training_game_indexes.json\", 'w'))\n",
    "    \n",
    "else:\n",
    "    indexes_to_train = json.load(open(\"data/model_training_10fold/training_game_indexes.json\"))\n",
    "    games_to_use = df[df.index.isin(indexes_to_train)]"
   ]
  },
  {
   "cell_type": "code",
   "execution_count": 19,
   "metadata": {},
   "outputs": [
    {
     "data": {
      "text/plain": [
       "98"
      ]
     },
     "execution_count": 19,
     "metadata": {},
     "output_type": "execute_result"
    }
   ],
   "source": [
    "games_to_use.task_uuid.nunique()"
   ]
  },
  {
   "cell_type": "code",
   "execution_count": 20,
   "metadata": {},
   "outputs": [
    {
     "data": {
      "text/plain": [
       "8.527884615384615"
      ]
     },
     "execution_count": 20,
     "metadata": {},
     "output_type": "execute_result"
    }
   ],
   "source": [
    "df.player_score.mean()"
   ]
  },
  {
   "cell_type": "code",
   "execution_count": 21,
   "metadata": {},
   "outputs": [],
   "source": [
    "from science.analysis.data_management import get_all_reward_configs\n",
    "\n",
    "if not OVERWRITE_OLD_TRAINING_DATA:\n",
    "    splits = json.load(open(\"data/model_training_10fold/test_train_splits.json\"))\n",
    "    \n",
    "# Re-build splits\n",
    "else: \n",
    "    \n",
    "    unique_teachers = games_to_use.task_uuid.unique()\n",
    "    random.shuffle(unique_teachers)\n",
    "    teacher_folds = np.array_split(unique_teachers, 10)\n",
    "\n",
    "    all_possible_reward_configs = get_all_reward_configs()\n",
    "\n",
    "    reward_keys = list(all_possible_reward_configs.keys())\n",
    "    reward_keys = [int(k) for k in reward_keys]\n",
    "    random.shuffle(reward_keys)\n",
    "    reward_folds = np.array_split(reward_keys, 10)\n",
    "\n",
    "    training_folds = list(zip(teacher_folds, reward_folds))\n",
    "    \n",
    "    splits = []\n",
    "    for i in range(0, len(training_folds)):\n",
    "\n",
    "        validate_key = i\n",
    "        validate_teachers = training_folds[validate_key][0]\n",
    "        validate_rewards = training_folds[validate_key][1]\n",
    "        try:\n",
    "            test_key = i+1\n",
    "            test_teachers = training_folds[test_key][0]\n",
    "            test_rewards = training_folds[test_key][1]\n",
    "        except IndexError:\n",
    "            print(\"Using fold 0 for test.\")\n",
    "            test_key = 0\n",
    "            test_teachers = training_folds[test_key][0]\n",
    "            test_rewards = training_folds[test_key][1]        \n",
    "\n",
    "        training_teachers = []\n",
    "        training_rewards = []\n",
    "        training_keys = [k for k in range(0, len(training_folds)) if k not in (test_key, validate_key)]\n",
    "        for k in training_keys:\n",
    "            training_teachers.extend(training_folds[k][0])\n",
    "            training_rewards.extend(training_folds[k][1])\n",
    "\n",
    "        training_set = set(training_teachers)\n",
    "        validation_set = set(validate_teachers)\n",
    "        test_set = set(test_teachers)\n",
    "\n",
    "        print(\"Confirming no leakage: {}, {}, {}\".format(training_set.intersection(validation_set),\n",
    "                                                     training_set.intersection(test_set),\n",
    "                                                     validation_set.intersection(test_set)))\n",
    "\n",
    "        splits.append({\"id\": i, \n",
    "                       \"validation_teachers\": list(validate_teachers), \n",
    "                       \"test_teachers\": list(test_teachers),\n",
    "                       \"validation_rewards\": list((int(r) for r in validate_rewards)), \n",
    "                       \"test_rewards\": list((int(r) for r in test_rewards)),\n",
    "                       \"training_teachers\": list(training_teachers),\n",
    "                       \"training_rewards\": list((int(r) for r in training_rewards))})\n",
    "\n",
    "        json.dump(splits, open(\"data/model_training_10fold/test_train_splits.json\", \"w\"))"
   ]
  },
  {
   "cell_type": "markdown",
   "metadata": {},
   "source": [
    "### Assemble / Augment Training Examples"
   ]
  },
  {
   "cell_type": "code",
   "execution_count": 29,
   "metadata": {},
   "outputs": [],
   "source": [
    "from science.agents.actions import Trajectory\n",
    "from science.analysis.data_management import switch_token_features, get_all_reward_configs\n",
    "\n",
    "def augment_with_reward_configs(game_df, reward_config_keys):\n",
    "    \n",
    "    augmented_training_examples = {}\n",
    "\n",
    "    for key in reward_config_keys:    \n",
    "    \n",
    "        value_config = get_all_reward_configs()[key]\n",
    "        target_vector = reward_vector_from_config(value_config)\n",
    "\n",
    "        modified_chat_tokens = game_df.apply(lambda x: switch_token_features(x[\"tokens\"], x[\"value_mask_config\"], value_config), axis=1)\n",
    "        modified_trajectories = game_df.apply(lambda x: Trajectory.from_exp_psiturk_record(x[\"game\"], value_mask_config=value_config), axis=1)\n",
    "        modified_feature_counts = [t.feature_counts.sort_index().values for t in modified_trajectories]\n",
    "\n",
    "        augmented_training_examples[key] = [(tokens, features, target_vector) for tokens, features in zip(modified_chat_tokens, modified_feature_counts)]\n",
    "    \n",
    "    return augmented_training_examples"
   ]
  },
  {
   "cell_type": "code",
   "execution_count": 31,
   "metadata": {},
   "outputs": [
    {
     "name": "stdout",
     "output_type": "stream",
     "text": [
      "Split 9 not found. Rebuilding:\n",
      "Training on 310 games (76 teachers)\n",
      "Validating on 39 games (9 teachers)\n",
      "Testing on 10 teachers.\n"
     ]
    }
   ],
   "source": [
    "import pickle\n",
    "\n",
    "for split in splits:\n",
    "\n",
    "    try:\n",
    "        open('data/model_training_10fold/splits_{}.pkl'.format(split[\"id\"]), 'rb')\n",
    "    \n",
    "    except:\n",
    "        \n",
    "        print(\"Split {} not found. Rebuilding:\".format(split[\"id\"]))\n",
    "\n",
    "        training_games = games_to_use[games_to_use.task_uuid.isin(split[\"training_teachers\"])]\n",
    "        validation_games = games_to_use[games_to_use.task_uuid.isin(split[\"validation_teachers\"])]\n",
    "\n",
    "        split[\"model_vocab\"] = build_vocab(training_games.tokens, 3)\n",
    "        split[\"model_word_to_ix\"] = {word: i for i, word in enumerate(split[\"model_vocab\"])}\n",
    "\n",
    "        split[\"training_examples\"] = augment_with_reward_configs(training_games, split[\"training_rewards\"])\n",
    "        split[\"validation_examples\"] = augment_with_reward_configs(validation_games, split[\"validation_rewards\"])\n",
    "        \n",
    "        print(\"Training on {} games ({} teachers)\".format(len(training_games), training_games.task_uuid.nunique()))\n",
    "        print(\"Validating on {} games ({} teachers)\".format(len(validation_games), validation_games.task_uuid.nunique()))\n",
    "        print(\"Testing on {} teachers.\".format(len(split[\"test_teachers\"])))\n",
    "        \n",
    "        with open('data/model_training_10fold/splits_{}.pkl'.format(split[\"id\"]),'wb') as f:\n",
    "            pickle.dump(split, f)"
   ]
  },
  {
   "cell_type": "markdown",
   "metadata": {},
   "source": [
    "### Load Original Training Data"
   ]
  },
  {
   "cell_type": "code",
   "execution_count": 32,
   "metadata": {},
   "outputs": [],
   "source": [
    "splits = []\n",
    "for split in range(0, 10):\n",
    "    with open('data/model_training_10fold/splits_{}.pkl'.format(split), 'rb') as f:\n",
    "        splits.append(pickle.load(f))"
   ]
  },
  {
   "cell_type": "markdown",
   "metadata": {},
   "source": [
    "# Model Definition"
   ]
  },
  {
   "cell_type": "code",
   "execution_count": 33,
   "metadata": {},
   "outputs": [],
   "source": [
    "import torch\n",
    "\n",
    "class TrajectoryFeedbackRewardPredictor(nn.Module):\n",
    "\n",
    "    def __init__(self, vocab_size, \n",
    "                 embedding_dim, \n",
    "                 object_feature_dim, \n",
    "                 reward_dim):\n",
    "        \n",
    "        super(TrajectoryFeedbackRewardPredictor, self).__init__()\n",
    "        \n",
    "        self.embeddings = nn.EmbeddingBag(vocab_size, embedding_dim)\n",
    "        \n",
    "        full_input_width = embedding_dim + object_feature_dim\n",
    "        \n",
    "        self.linear1 = nn.Linear(full_input_width, 128)\n",
    "        self.linear2 = nn.Linear(128, reward_dim)\n",
    "\n",
    "    def forward(self, word_inputs, feature_inputs):\n",
    "        \n",
    "        embeds = self.embeddings(word_inputs)        \n",
    "        concated = torch.cat((embeds, feature_inputs.float()), 1)\n",
    "        \n",
    "        out = F.relu(self.linear1(concated))\n",
    "        out = self.linear2(out).double()\n",
    "        \n",
    "        return out"
   ]
  },
  {
   "cell_type": "markdown",
   "metadata": {},
   "source": [
    "# Model Training"
   ]
  },
  {
   "cell_type": "code",
   "execution_count": 34,
   "metadata": {},
   "outputs": [
    {
     "name": "stdout",
     "output_type": "stream",
     "text": [
      "\n",
      "Starting training on split 0\n"
     ]
    },
    {
     "name": "stderr",
     "output_type": "stream",
     "text": [
      "<ipython-input-34-5d52d1e61ce8>:37: DeprecationWarning: an integer is required (got type numpy.float64).  Implicit conversion to integers using __int__ is deprecated, and may be removed in a future version of Python.\n",
      "  feature_counts_tensor = torch.tensor([features], dtype=torch.long)\n",
      "<ipython-input-34-5d52d1e61ce8>:54: DeprecationWarning: an integer is required (got type numpy.float64).  Implicit conversion to integers using __int__ is deprecated, and may be removed in a future version of Python.\n",
      "  feature_counts_tensor = torch.tensor([features], dtype=torch.long)\n"
     ]
    },
    {
     "name": "stdout",
     "output_type": "stream",
     "text": [
      "Completed epoch 1, training loss 2174.29, validation loss 31.70.\n",
      "Completed epoch 2, training loss 2077.62, validation loss 31.55.\n",
      "Completed epoch 3, training loss 2021.25, validation loss 31.83.\n",
      "Validation loss increased.\n",
      "Completed epoch 4, training loss 1983.35, validation loss 32.22.\n",
      "Validation loss increased.\n",
      "\tValidation loss increased for two steps-- ending training.\n",
      "\n",
      "Starting training on split 1\n",
      "Completed epoch 1, training loss 2105.23, validation loss 35.03.\n",
      "Completed epoch 2, training loss 2013.18, validation loss 34.99.\n",
      "Completed epoch 3, training loss 1969.25, validation loss 34.95.\n",
      "Completed epoch 4, training loss 1935.91, validation loss 34.58.\n",
      "Completed epoch 5, training loss 1909.02, validation loss 34.12.\n",
      "Completed epoch 6, training loss 1885.77, validation loss 33.62.\n",
      "Completed epoch 7, training loss 1865.27, validation loss 33.19.\n",
      "Completed epoch 8, training loss 1846.14, validation loss 32.75.\n",
      "Completed epoch 9, training loss 1828.56, validation loss 32.39.\n",
      "Completed epoch 10, training loss 1812.21, validation loss 32.03.\n",
      "Completed epoch 11, training loss 1796.62, validation loss 31.80.\n",
      "Completed epoch 12, training loss 1781.25, validation loss 31.55.\n",
      "Completed epoch 13, training loss 1766.63, validation loss 31.40.\n",
      "Completed epoch 14, training loss 1753.08, validation loss 31.21.\n",
      "Completed epoch 15, training loss 1740.11, validation loss 31.09.\n",
      "Completed epoch 16, training loss 1727.54, validation loss 30.92.\n",
      "Completed epoch 17, training loss 1715.79, validation loss 30.88.\n",
      "Completed epoch 18, training loss 1704.38, validation loss 30.70.\n",
      "Completed epoch 19, training loss 1692.40, validation loss 30.67.\n",
      "Completed epoch 20, training loss 1680.44, validation loss 30.59.\n",
      "\n",
      "Starting training on split 2\n",
      "Completed epoch 1, training loss 2068.78, validation loss 49.20.\n",
      "Completed epoch 2, training loss 1988.89, validation loss 48.18.\n",
      "Completed epoch 3, training loss 1946.53, validation loss 47.38.\n",
      "Completed epoch 4, training loss 1909.97, validation loss 46.91.\n",
      "Completed epoch 5, training loss 1878.26, validation loss 46.81.\n",
      "Completed epoch 6, training loss 1850.01, validation loss 47.04.\n",
      "Validation loss increased.\n",
      "Completed epoch 7, training loss 1824.84, validation loss 47.10.\n",
      "Validation loss increased.\n",
      "\tValidation loss increased for two steps-- ending training.\n",
      "\n",
      "Starting training on split 3\n",
      "Completed epoch 1, training loss 2052.72, validation loss 39.60.\n",
      "Completed epoch 2, training loss 1973.24, validation loss 39.28.\n",
      "Completed epoch 3, training loss 1935.07, validation loss 38.93.\n",
      "Completed epoch 4, training loss 1901.97, validation loss 38.63.\n",
      "Completed epoch 5, training loss 1871.90, validation loss 38.44.\n",
      "Completed epoch 6, training loss 1844.68, validation loss 38.36.\n",
      "Completed epoch 7, training loss 1820.98, validation loss 38.32.\n",
      "Completed epoch 8, training loss 1799.75, validation loss 38.27.\n",
      "Completed epoch 9, training loss 1780.66, validation loss 38.37.\n",
      "Validation loss increased.\n",
      "Completed epoch 10, training loss 1763.52, validation loss 38.46.\n",
      "Validation loss increased.\n",
      "\tValidation loss increased for two steps-- ending training.\n",
      "\n",
      "Starting training on split 4\n",
      "Completed epoch 1, training loss 2014.95, validation loss 51.86.\n",
      "Completed epoch 2, training loss 1925.62, validation loss 51.45.\n",
      "Completed epoch 3, training loss 1880.23, validation loss 51.07.\n",
      "Completed epoch 4, training loss 1844.28, validation loss 51.01.\n",
      "Completed epoch 5, training loss 1814.71, validation loss 51.18.\n",
      "Validation loss increased.\n",
      "Completed epoch 6, training loss 1789.18, validation loss 51.31.\n",
      "Validation loss increased.\n",
      "\tValidation loss increased for two steps-- ending training.\n",
      "\n",
      "Starting training on split 5\n",
      "Completed epoch 1, training loss 2201.79, validation loss 46.70.\n",
      "Completed epoch 2, training loss 2087.90, validation loss 46.16.\n",
      "Completed epoch 3, training loss 2018.75, validation loss 45.65.\n",
      "Completed epoch 4, training loss 1969.87, validation loss 45.19.\n",
      "Completed epoch 5, training loss 1933.88, validation loss 44.89.\n",
      "Completed epoch 6, training loss 1903.83, validation loss 44.58.\n",
      "Completed epoch 7, training loss 1878.06, validation loss 44.49.\n",
      "Completed epoch 8, training loss 1855.57, validation loss 44.45.\n",
      "Completed epoch 9, training loss 1834.96, validation loss 44.33.\n",
      "Completed epoch 10, training loss 1816.01, validation loss 44.21.\n",
      "Completed epoch 11, training loss 1798.31, validation loss 44.21.\n",
      "Validation loss increased.\n",
      "Completed epoch 12, training loss 1781.86, validation loss 44.10.\n",
      "Completed epoch 13, training loss 1765.98, validation loss 44.18.\n",
      "Validation loss increased.\n",
      "Completed epoch 14, training loss 1751.31, validation loss 44.30.\n",
      "Validation loss increased.\n",
      "\tValidation loss increased for two steps-- ending training.\n",
      "\n",
      "Starting training on split 6\n",
      "Completed epoch 1, training loss 2359.02, validation loss 24.22.\n",
      "Completed epoch 2, training loss 2265.64, validation loss 24.27.\n",
      "Validation loss increased.\n",
      "Completed epoch 3, training loss 2199.97, validation loss 24.63.\n",
      "Validation loss increased.\n",
      "\tValidation loss increased for two steps-- ending training.\n",
      "\n",
      "Starting training on split 7\n",
      "Completed epoch 1, training loss 2275.99, validation loss 26.30.\n",
      "Completed epoch 2, training loss 2186.30, validation loss 25.98.\n",
      "Completed epoch 3, training loss 2132.43, validation loss 25.89.\n",
      "Completed epoch 4, training loss 2086.98, validation loss 25.77.\n",
      "Completed epoch 5, training loss 2048.71, validation loss 25.70.\n",
      "Completed epoch 6, training loss 2015.32, validation loss 25.67.\n",
      "Completed epoch 7, training loss 1985.45, validation loss 25.70.\n",
      "Validation loss increased.\n",
      "Completed epoch 8, training loss 1959.16, validation loss 25.71.\n",
      "Validation loss increased.\n",
      "\tValidation loss increased for two steps-- ending training.\n",
      "\n",
      "Starting training on split 8\n",
      "Completed epoch 1, training loss 2201.34, validation loss 33.14.\n",
      "Completed epoch 2, training loss 2113.33, validation loss 33.16.\n",
      "Validation loss increased.\n",
      "Completed epoch 3, training loss 2065.85, validation loss 33.27.\n",
      "Validation loss increased.\n",
      "\tValidation loss increased for two steps-- ending training.\n",
      "\n",
      "Starting training on split 9\n",
      "Completed epoch 1, training loss 2240.47, validation loss 33.91.\n",
      "Completed epoch 2, training loss 2152.76, validation loss 33.37.\n",
      "Completed epoch 3, training loss 2107.27, validation loss 33.07.\n",
      "Completed epoch 4, training loss 2069.82, validation loss 32.93.\n",
      "Completed epoch 5, training loss 2038.19, validation loss 32.86.\n",
      "Completed epoch 6, training loss 2010.68, validation loss 32.78.\n",
      "Completed epoch 7, training loss 1987.38, validation loss 32.78.\n",
      "Validation loss increased.\n",
      "Completed epoch 8, training loss 1966.12, validation loss 32.56.\n",
      "Completed epoch 9, training loss 1946.04, validation loss 32.43.\n",
      "Completed epoch 10, training loss 1928.18, validation loss 32.29.\n",
      "Completed epoch 11, training loss 1911.54, validation loss 32.09.\n",
      "Completed epoch 12, training loss 1895.93, validation loss 31.95.\n",
      "Completed epoch 13, training loss 1880.83, validation loss 31.87.\n",
      "Completed epoch 14, training loss 1866.59, validation loss 31.84.\n",
      "Completed epoch 15, training loss 1852.62, validation loss 31.71.\n",
      "Completed epoch 16, training loss 1839.46, validation loss 31.62.\n",
      "Completed epoch 17, training loss 1827.13, validation loss 31.53.\n",
      "Completed epoch 18, training loss 1814.13, validation loss 31.49.\n",
      "Completed epoch 19, training loss 1801.78, validation loss 31.55.\n",
      "Validation loss increased.\n",
      "Completed epoch 20, training loss 1790.47, validation loss 31.49.\n"
     ]
    }
   ],
   "source": [
    "save_model = False\n",
    "\n",
    "for split in splits:\n",
    "    \n",
    "    print(\"\\nStarting training on split {}\".format(split[\"id\"]))\n",
    "\n",
    "    training_examples = split[\"training_examples\"]\n",
    "    validation_examples = split[\"validation_examples\"]\n",
    "    model_word_to_ix = split[\"model_word_to_ix\"]\n",
    "\n",
    "    EMBEDDING_DIM = 30\n",
    "    REWARD_SIZE = 9\n",
    "    loss_function = nn.MSELoss()\n",
    "\n",
    "    weight_decay = 0.0001\n",
    "\n",
    "    # Reset model and optimizer\n",
    "    joint_model = TrajectoryFeedbackRewardPredictor(len(model_word_to_ix), EMBEDDING_DIM, len(FEATURES), REWARD_SIZE)\n",
    "    optimizer = optim.SGD(joint_model.parameters(), lr=0.005, weight_decay=weight_decay)\n",
    "\n",
    "    # Flatten and shuffle training data\n",
    "    training_example_list = list(itertools.chain.from_iterable(training_examples.values()))\n",
    "    random.shuffle(training_example_list)\n",
    "\n",
    "    validation_losses = []\n",
    "    for epoch in range(20):\n",
    "\n",
    "        training_loss = 0\n",
    "        validation_loss = 0\n",
    "\n",
    "        for tokens, features, target in training_example_list:\n",
    "\n",
    "            joint_model.zero_grad()\n",
    "\n",
    "            # Step 3. Run the forward pass\n",
    "            context_idxs = torch.tensor([[model_word_to_ix.get(w, model_word_to_ix[\"UNK\"]) for w in tokens]], dtype=torch.long)\n",
    "            feature_counts_tensor = torch.tensor([features], dtype=torch.long)     \n",
    "            output_vector = joint_model(context_idxs, feature_counts_tensor)\n",
    "\n",
    "            # Step 4. Compute loss\n",
    "            target_tensor = torch.tensor([target], dtype=torch.double)\n",
    "            loss = loss_function(output_vector, target_tensor)\n",
    "\n",
    "            # Step 5. Profit\n",
    "            loss.backward()\n",
    "            optimizer.step()\n",
    "\n",
    "            # Get the Python number from a 1-element Tensor by calling tensor.item()\n",
    "            training_loss += loss.item()\n",
    "\n",
    "        for tokens, features, target in itertools.chain.from_iterable(validation_examples.values()):\n",
    "            # Run the forward pass\n",
    "            context_idxs = torch.tensor([[model_word_to_ix.get(w, model_word_to_ix[\"UNK\"]) for w in tokens]], dtype=torch.long)\n",
    "            feature_counts_tensor = torch.tensor([features], dtype=torch.long)     \n",
    "            output_vector = joint_model(context_idxs, feature_counts_tensor)\n",
    "\n",
    "            # Compute loss\n",
    "            target_tensor = torch.tensor([target], dtype=torch.double)\n",
    "            loss = loss_function(output_vector, target_tensor)\n",
    "            validation_loss += loss.item()\n",
    "\n",
    "        print(\"Completed epoch {}, training loss {:.2f}, validation loss {:.2f}.\".format(epoch+1, training_loss, validation_loss))    \n",
    "\n",
    "        if epoch > 0 and validation_loss > validation_losses[-1]:\n",
    "            print(\"Validation loss increased.\")\n",
    "\n",
    "        if epoch > 1 and validation_loss > validation_losses[-1] and validation_losses[-1] > validation_losses[-2]:\n",
    "            print(\"\\tValidation loss increased for two steps-- ending training.\")\n",
    "            break\n",
    "\n",
    "        validation_losses.append(validation_loss)\n",
    "\n",
    "    if save_model:\n",
    "        file_name = \"joint_model_10fold_split_{}.pt\".format(split[\"id\"])\n",
    "        file_path = \"data/model_training_10fold/\"\n",
    "        \n",
    "        PATH = file_path + file_name\n",
    "        torch.save(joint_model.state_dict(), PATH)"
   ]
  },
  {
   "cell_type": "markdown",
   "metadata": {},
   "source": [
    "### Visualizing Model Beliefs"
   ]
  },
  {
   "cell_type": "code",
   "execution_count": 38,
   "metadata": {},
   "outputs": [],
   "source": [
    "def get_model(split_number):\n",
    "    \n",
    "    model_word_to_ix = splits[split_number][\"model_word_to_ix\"]\n",
    "    model = TrajectoryFeedbackRewardPredictor(len(model_word_to_ix), EMBEDDING_DIM, len(FEATURES), REWARD_SIZE)\n",
    "    model_path = \"data/model_training_10fold/joint_model_10fold_split_{}.pt\".format(split_number)\n",
    "    model.load_state_dict(torch.load(model_path))\n",
    "    \n",
    "    return model, model_word_to_ix"
   ]
  },
  {
   "cell_type": "code",
   "execution_count": 39,
   "metadata": {},
   "outputs": [],
   "source": [
    "from science.agents.agents import BaseAgent\n",
    "from science.analysis.visualization import plot_learner_beliefs\n",
    "from science.utils import SHAPES, COLORS\n",
    "\n",
    "def get_nn_trajectory_agent(model, model_word_to_ix, tokens, features):\n",
    "    \n",
    "    context_idxs = torch.tensor([[model_word_to_ix.get(w, model_word_to_ix[\"UNK\"]) for w in tokens]], dtype=torch.long)\n",
    "    feature_tensor = torch.tensor([features], dtype=torch.long)     \n",
    "    feature_weights = model(context_idxs, feature_tensor).tolist()[0]\n",
    "    \n",
    "    feature_weight_dictionary = {c:{\"mean\": w*10, \"precision\": 50} for c, w in zip(sorted(CONJUNCTIONS), feature_weights)}\n",
    "    \n",
    "    for f in itertools.chain(SHAPES, COLORS):\n",
    "        feature_weight_dictionary[f] = {\"mean\": 0, \"precision\": 50}\n",
    "        \n",
    "    return BaseAgent(features=FEATURES, prior=feature_weight_dictionary, name=\"Trajectory NN Agent\")"
   ]
  },
  {
   "cell_type": "markdown",
   "metadata": {},
   "source": [
    "## Qualitatively Interesting Behaviors\n",
    "\n",
    "Here, we iterate over all 10 splits and plot average predictions under a different range of token inputs.\n",
    "\n",
    "```\n",
    "yellow|circle      1.0\n",
    "yellow|triangle    1.0\n",
    "yellow|square      1.0\n",
    "```\n",
    "Task: `A2YNHC0B210HLK:3BGYGHDBBZ8MFT5NW5HGTCKKWN122H`  \n",
    "Level: `2`"
   ]
  },
  {
   "cell_type": "code",
   "execution_count": 41,
   "metadata": {},
   "outputs": [],
   "source": [
    "test_game = df[(df.task_uuid == \"A2YNHC0B210HLK:3BGYGHDBBZ8MFT5NW5HGTCKKWN122H\") & (df.level_number == 2)].iloc[0]\n",
    "feature_counts = Trajectory.from_exp_psiturk_record(test_game[\"game\"]).feature_counts\n",
    "trajectory = Trajectory.from_exp_psiturk_record(test_game[\"game\"])"
   ]
  },
  {
   "cell_type": "code",
   "execution_count": 44,
   "metadata": {},
   "outputs": [
    {
     "data": {
      "image/png": "[encoded data removed]",
      "text/plain": [
       "<Figure size 864x432 with 6 Axes>"
      ]
     },
     "metadata": {
      "needs_background": "light"
     },
     "output_type": "display_data"
    },
    {
     "data": {
      "image/png": "[encoded data removed]",
      "text/plain": [
       "<Figure size 864x432 with 6 Axes>"
      ]
     },
     "metadata": {
      "needs_background": "light"
     },
     "output_type": "display_data"
    },
    {
     "data": {
      "image/png": "[encoded data removed]",
      "text/plain": [
       "<Figure size 864x432 with 6 Axes>"
      ]
     },
     "metadata": {
      "needs_background": "light"
     },
     "output_type": "display_data"
    }
   ],
   "source": [
    "phrases = [ \"blue\", \"pink\", \"yellow\", \"good job\", \"don't collect those\", \"pink is bad\"]\n",
    "\n",
    "from science.observations.text_analysis import nn_preprocess_chat_phrase\n",
    "from science.utils import FEATURE_ABBREVIATION_DICT\n",
    "\n",
    "from science.agents.agents import ExpEnsembleNeuralLearner\n",
    "inv_map = inv_map = {v: k for k, v in FEATURE_ABBREVIATION_DICT.items()}\n",
    "\n",
    "fig, axs = plt.subplots(2, 3, figsize=(12, 6))\n",
    "\n",
    "for i,(ax, phrase) in enumerate(zip(fig.axes, phrases)):\n",
    "    \n",
    "    ensemble_learner = ExpEnsembleNeuralLearner()\n",
    "    ensemble_learner.update_beliefs(phrase, trajectory)\n",
    "    beliefs = ensemble_learner.belief_state\n",
    "        \n",
    "    points = []\n",
    "    \n",
    "    for y_val in [-4,  0,  0, 4]:\n",
    "        ax.axhline(y_val, linestyle='--', color='k', alpha=.5)\n",
    "    \n",
    "    for feature in sorted(CONJUNCTIONS):\n",
    "        color = inv_map[feature.split('|')[0]]\n",
    "        shape = inv_map[feature.split('|')[1]]\n",
    "        points.append((beliefs[feature][\"mean\"], '{}{}'.format(color, shape)))\n",
    "    for x, point in enumerate(points):\n",
    "        ax.plot(x, point[0], point[1], markersize=20)\n",
    "        ax.set_ylim(-8, 8)\n",
    "    \n",
    "    ax.get_xaxis().set_ticks([], [])\n",
    "    ax.set_title(\"\\\"{}\\\"\".format(phrase), fontsize=20)\n",
    "    \n",
    "    if i not in (0, 3):\n",
    "        ax.get_yaxis().set_ticks([], [])\n",
    "    \n",
    "fig.text(0, 0.5, 'Inferred Feature Value', va='center', rotation='vertical', fontsize=\"20\", fontweight='bold')\n",
    "\n",
    "plt.tight_layout()\n",
    "plt.show()"
   ]
  },
  {
   "cell_type": "code",
   "execution_count": null,
   "metadata": {},
   "outputs": [],
   "source": []
  }
 ],
 "metadata": {
  "kernelspec": {
   "display_name": "Python 3",
   "language": "python",
   "name": "python3"
  },
  "language_info": {
   "codemirror_mode": {
    "name": "ipython",
    "version": 3
   },
   "file_extension": ".py",
   "mimetype": "text/x-python",
   "name": "python",
   "nbconvert_exporter": "python",
   "pygments_lexer": "ipython3",
   "version": "3.8.3"
  }
 },
 "nbformat": 4,
 "nbformat_minor": 4
}
